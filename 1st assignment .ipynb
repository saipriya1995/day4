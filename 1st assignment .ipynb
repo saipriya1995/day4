{
 "cells": [
  {
   "cell_type": "code",
   "execution_count": null,
   "metadata": {},
   "outputs": [],
   "source": [
    "def sum(n):\n",
    "     c=(n*(n+1))/2 \n",
    "     print(c)\n",
    "\n",
    "sum(200)\n",
    "\n"
   ]
  },
  {
   "cell_type": "code",
   "execution_count": null,
   "metadata": {},
   "outputs": [],
   "source": [
    "def  sum():\n",
    "    n=0\n",
    "    for i in range(100+1):\n",
    "        n=n+i\n",
    "    print(round(n))\n",
    "    \n",
    "sum()    "
   ]
  },
  {
   "cell_type": "code",
   "execution_count": null,
   "metadata": {},
   "outputs": [],
   "source": [
    "n=str(input(\"enter any string\"))\n",
    "print(n)\n",
    "m=(len(n))/2\n",
    "n[m:m+1]\n",
    "print(m+1)\n",
    "print(m)\n"
   ]
  },
  {
   "cell_type": "code",
   "execution_count": null,
   "metadata": {},
   "outputs": [],
   "source": [
    "n='1234n[:0]"
   ]
  },
  {
   "cell_type": "code",
   "execution_count": 5,
   "metadata": {},
   "outputs": [
    {
     "name": "stdout",
     "output_type": "stream",
     "text": [
      "enter any number371\n",
      "the given number is armstrong\n"
     ]
    }
   ],
   "source": [
    "def isArmstrong(n):\n",
    "    a=len(str(n))\n",
    "    n1=n\n",
    "    s=0\n",
    "    while n>0:\n",
    "        d=n%10\n",
    "        s=s+d**a\n",
    "        n=n//10\n",
    "    \n",
    "        \n",
    "    if(n1==s):\n",
    "        print(\"the given number is armstrong\")\n",
    "    else:\n",
    "        print(\"the given number is not armstrong number\")\n",
    "        \n",
    "        \n",
    "n=int(input(\"enter any number\"))         \n",
    "\n",
    "isArmstrong(n)            \n",
    "    \n",
    "    \n",
    "    "
   ]
  },
  {
   "cell_type": "code",
   "execution_count": null,
   "metadata": {},
   "outputs": [],
   "source": []
  },
  {
   "cell_type": "code",
   "execution_count": null,
   "metadata": {},
   "outputs": [],
   "source": []
  },
  {
   "cell_type": "code",
   "execution_count": null,
   "metadata": {},
   "outputs": [],
   "source": []
  }
 ],
 "metadata": {
  "kernelspec": {
   "display_name": "Python 2",
   "language": "python",
   "name": "python2"
  },
  "language_info": {
   "codemirror_mode": {
    "name": "ipython",
    "version": 2
   },
   "file_extension": ".py",
   "mimetype": "text/x-python",
   "name": "python",
   "nbconvert_exporter": "python",
   "pygments_lexer": "ipython2",
   "version": "2.7.15"
  }
 },
 "nbformat": 4,
 "nbformat_minor": 2
}
